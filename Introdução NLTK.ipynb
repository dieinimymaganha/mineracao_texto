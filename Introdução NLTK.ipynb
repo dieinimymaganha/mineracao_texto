{
 "cells": [
  {
   "cell_type": "code",
   "execution_count": 1,
   "metadata": {},
   "outputs": [],
   "source": [
    "import nltk"
   ]
  },
  {
   "cell_type": "markdown",
   "metadata": {},
   "source": [
    "<p style=\"background-color:Tomato;\">Na primeira vez talvez precise executar o comando abaixo:</p>"
   ]
  },
  {
   "cell_type": "code",
   "execution_count": 28,
   "metadata": {},
   "outputs": [],
   "source": [
    "# nltk.download('punkt')\n",
    "# nltk.download('averaged_perceptron_tagger')\n",
    "# nltk.download('maxent_ne_chunker')\n",
    "# nltk.download('words')"
   ]
  },
  {
   "cell_type": "code",
   "execution_count": 3,
   "metadata": {},
   "outputs": [],
   "source": [
    "texto = 'Mr. Green killed Colonel Mustard in the study the candlestick. Mr. Green is not a very nice fellow'"
   ]
  },
  {
   "cell_type": "code",
   "execution_count": 4,
   "metadata": {},
   "outputs": [
    {
     "data": {
      "text/plain": [
       "'Mr. Green killed Colonel Mustard in the study the candlestick. Mr. Green is not a very nice fellow'"
      ]
     },
     "execution_count": 4,
     "metadata": {},
     "output_type": "execute_result"
    }
   ],
   "source": [
    "texto"
   ]
  },
  {
   "cell_type": "markdown",
   "metadata": {},
   "source": [
    "<p><b>Separação por frases:</b></p>"
   ]
  },
  {
   "cell_type": "code",
   "execution_count": 8,
   "metadata": {},
   "outputs": [],
   "source": [
    "frases = nltk.tokenize.sent_tokenize(texto)"
   ]
  },
  {
   "cell_type": "code",
   "execution_count": 9,
   "metadata": {},
   "outputs": [
    {
     "data": {
      "text/plain": [
       "['Mr. Green killed Colonel Mustard in the study the candlestick.',\n",
       " 'Mr. Green is not a very nice fellow']"
      ]
     },
     "execution_count": 9,
     "metadata": {},
     "output_type": "execute_result"
    }
   ],
   "source": [
    "frases"
   ]
  },
  {
   "cell_type": "markdown",
   "metadata": {},
   "source": [
    "<p><b>Separação por palavras:</b></p>"
   ]
  },
  {
   "cell_type": "code",
   "execution_count": 12,
   "metadata": {},
   "outputs": [],
   "source": [
    "tokens = nltk.word_tokenize(texto)"
   ]
  },
  {
   "cell_type": "code",
   "execution_count": 13,
   "metadata": {},
   "outputs": [
    {
     "data": {
      "text/plain": [
       "['Mr.',\n",
       " 'Green',\n",
       " 'killed',\n",
       " 'Colonel',\n",
       " 'Mustard',\n",
       " 'in',\n",
       " 'the',\n",
       " 'study',\n",
       " 'the',\n",
       " 'candlestick',\n",
       " '.',\n",
       " 'Mr.',\n",
       " 'Green',\n",
       " 'is',\n",
       " 'not',\n",
       " 'a',\n",
       " 'very',\n",
       " 'nice',\n",
       " 'fellow']"
      ]
     },
     "execution_count": 13,
     "metadata": {},
     "output_type": "execute_result"
    }
   ],
   "source": [
    "tokens"
   ]
  },
  {
   "cell_type": "markdown",
   "metadata": {},
   "source": [
    "<p><b>Criando as classes: Classes gramatical</b></p>"
   ]
  },
  {
   "cell_type": "code",
   "execution_count": 20,
   "metadata": {},
   "outputs": [],
   "source": [
    "classes = nltk.pos_tag(tokens)"
   ]
  },
  {
   "cell_type": "code",
   "execution_count": 22,
   "metadata": {},
   "outputs": [
    {
     "data": {
      "text/plain": [
       "[('Mr.', 'NNP'),\n",
       " ('Green', 'NNP'),\n",
       " ('killed', 'VBD'),\n",
       " ('Colonel', 'NNP'),\n",
       " ('Mustard', 'NNP'),\n",
       " ('in', 'IN'),\n",
       " ('the', 'DT'),\n",
       " ('study', 'NN'),\n",
       " ('the', 'DT'),\n",
       " ('candlestick', 'NN'),\n",
       " ('.', '.'),\n",
       " ('Mr.', 'NNP'),\n",
       " ('Green', 'NNP'),\n",
       " ('is', 'VBZ'),\n",
       " ('not', 'RB'),\n",
       " ('a', 'DT'),\n",
       " ('very', 'RB'),\n",
       " ('nice', 'JJ'),\n",
       " ('fellow', 'NN')]"
      ]
     },
     "execution_count": 22,
     "metadata": {},
     "output_type": "execute_result"
    }
   ],
   "source": [
    "classes"
   ]
  },
  {
   "cell_type": "markdown",
   "metadata": {},
   "source": [
    "Link para identificar as classes:\n",
    "https://cs.nyu.edu/grishman/jet/guide/PennPOS.html"
   ]
  },
  {
   "cell_type": "code",
   "execution_count": 29,
   "metadata": {},
   "outputs": [],
   "source": [
    "entidades = nltk.chunk.ne_chunk(classes)"
   ]
  },
  {
   "cell_type": "code",
   "execution_count": 32,
   "metadata": {},
   "outputs": [
    {
     "name": "stdout",
     "output_type": "stream",
     "text": [
      "(S\n",
      "  (PERSON Mr./NNP)\n",
      "  (PERSON Green/NNP)\n",
      "  killed/VBD\n",
      "  (ORGANIZATION Colonel/NNP Mustard/NNP)\n",
      "  in/IN\n",
      "  the/DT\n",
      "  study/NN\n",
      "  the/DT\n",
      "  candlestick/NN\n",
      "  ./.\n",
      "  (PERSON Mr./NNP Green/NNP)\n",
      "  is/VBZ\n",
      "  not/RB\n",
      "  a/DT\n",
      "  very/RB\n",
      "  nice/JJ\n",
      "  fellow/NN)\n"
     ]
    }
   ],
   "source": [
    "print(entidades)"
   ]
  },
  {
   "cell_type": "code",
   "execution_count": null,
   "metadata": {},
   "outputs": [],
   "source": []
  },
  {
   "cell_type": "code",
   "execution_count": null,
   "metadata": {},
   "outputs": [],
   "source": []
  }
 ],
 "metadata": {
  "kernelspec": {
   "display_name": "Python 3",
   "language": "python",
   "name": "python3"
  },
  "language_info": {
   "codemirror_mode": {
    "name": "ipython",
    "version": 3
   },
   "file_extension": ".py",
   "mimetype": "text/x-python",
   "name": "python",
   "nbconvert_exporter": "python",
   "pygments_lexer": "ipython3",
   "version": "3.7.4"
  }
 },
 "nbformat": 4,
 "nbformat_minor": 2
}

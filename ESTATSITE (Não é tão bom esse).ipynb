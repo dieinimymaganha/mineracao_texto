{
 "cells": [
  {
   "cell_type": "markdown",
   "metadata": {},
   "source": [
    "Imortando as blibliotecas"
   ]
  },
  {
   "cell_type": "code",
   "execution_count": 25,
   "metadata": {},
   "outputs": [
    {
     "name": "stderr",
     "output_type": "stream",
     "text": [
      "/home/dieinimy/.pyenv/versions/3.7.4/envs/textMining/lib/python3.7/site-packages/pandas/compat/__init__.py:84: UserWarning: Could not import the lzma module. Your installed Python is incomplete. Attempting to use lzma compression will result in a RuntimeError.\n",
      "  warnings.warn(msg)\n"
     ]
    }
   ],
   "source": [
    "import nltk\n",
    "from nltk.tokenize import sent_tokenize\n",
    "from nltk.tokenize import word_tokenize\n",
    "import numpy as np\n",
    "import pandas as pd\n",
    "from os import path\n",
    "from PIL import Image\n",
    "from wordcloud import WordCloud, STOPWORDS, ImageColorGenerator\n"
   ]
  },
  {
   "cell_type": "markdown",
   "metadata": {},
   "source": [
    "Caso de erro basta executar a linha abaixo:"
   ]
  },
  {
   "cell_type": "markdown",
   "metadata": {},
   "source": [
    "nltk.download('punkt')"
   ]
  },
  {
   "cell_type": "markdown",
   "metadata": {},
   "source": [
    "Carregar arquivo texto<br/>\n",
    "Alterei o código para uma maneira melhor para ler o arquivo"
   ]
  },
  {
   "cell_type": "code",
   "execution_count": 26,
   "metadata": {},
   "outputs": [],
   "source": [
    "with open('maconha.txt','r') as f:\n",
    "    texto = \"\"\n",
    "    while 1:\n",
    "        line = f.readline()\n",
    "        if not line:\n",
    "            break\n",
    "        texto += line"
   ]
  },
  {
   "cell_type": "code",
   "execution_count": 27,
   "metadata": {
    "scrolled": true
   },
   "outputs": [
    {
     "name": "stdout",
     "output_type": "stream",
     "text": [
      "A cada dia que passa, mais se fala sobre a legalização da maconha. Seja nas escolas, nos jornais ou no campo político, o assunto já não é mais tabu e defender a descriminalização ou legalização não é nem de longe uma opinião polêmica. Até mesmo num país conservador como o nosso, já encontramos uma parcela da população sendo favorável à legalização tanto para fins medicinais, quanto para fins recreacionais. Com isto, muitos começam a criar hipóteses de coisas terríveis que poderiam acontecer no Brasil, caso a lei sofra mudanças. O curioso por trás disso é que ainda há muita gente que debate em torno de suposições e crenças do que poderia acontecer, ignorando completamente os experimentos existentes.\n",
      "\n",
      "O porte de maconha já é descriminalizado em diversos lugares do mundo [1], além de ter seu uso para fins medicinais e até recreacionais sendo cada vez mais permitidos. Na América do Sul, por exemplo, países como Chile, Argentina e Colômbia já não criminalizam mais o porte da droga. Além disso, temos nosso vizinho Uruguai pioneiro na legalização para fins recreacionais. No Brasil, apesar de mudanças na lei em 2006, ainda se prende pessoas pelo porte da droga. Nosso problema é ainda mais grave quando se observa a arbitrariedade da lei, que acaba por prender pessoas que carregam até 1g da droga e pode libertar outras com 20g [2].\n",
      "\n",
      "[caption id=\"attachment_14732\" align=\"aligncenter\" width=\"891\"\n",
      "\n",
      "Elaboração: Jornal O Estado de São Paulo[/caption]\n",
      "A nossa situação deixa clara a necessidade de mudanças nas leis. E mesmo que muitos ainda se perguntem sobre a quantidade de coisas terríveis que poderia vir a acontecer se legalizarmos a droga, é possível olhar para frente com otimismo. Nos Estados Unidos, por exemplo, a legalização da maconha para fins medicinais já ocorre em 33 estados [3], o que fez com que fosse possível desenhar novos estudos quasi-experimental. Em um deles [4], dois pesquisadores analisaram o efeito da legalização da maconha medicinal no tráfico de drogas e observaram uma queda na quantidade de crimes violentos. Os resultados mostraram evidências de que a legalização resultou em uma queda de quase 6% nos crimes violentos, sendo que alguns, como homicídio, tiveram impactos significativos, chegando a 12% de redução.\n",
      "\n",
      "Como dito na introdução do texto, este não é o único experimento existente. A Itália também passou por um processo de legalização de uma Cannabis com baixo teor de THC. Em um estudo realizado no ano passado [5], pesquisadores analisaram dados de 2016 a 2018 para entender o efeito que a legalização do produto teria no tráfico de drogas. O que se descobriu foi que a legalização da C-light resultou em uma queda de no confisco de maconha ilegal, além de impactar na oferta ilegal de outros medicamentos derivados da droga. Estima-se que a perda de receita para as organizações criminosas cheguem a 200 milhões de Euro por ano.\n",
      "\n",
      "Dito tudo isto, fica claro o porquê de economistas e cientistas sociais serem tão favoráveis à legalização das drogas. O impacto econômico para os dados que temos até o momento é bem significativo. No entanto, um grupo específico de especialistas parece ainda estar dividido, o dos médicos. O (justo) argumento utilizado é o de que a droga faz mal. Não há como negar isso, além dos óbvios problemas de dependência, a maconha pode causar danos cognitivos, principalmente quando consumida na adolescência. Além disso, alguns estudos já mostram que até a depressão pode ser agravada para consumidores de longo prazo.\n",
      "\n",
      "A grande questão é que mesmo para estes problemas, a proibição passa longe de ser a solução. Ainda que a maconha cause algum mal, drogas como cigarro e o álcool são mais aditivas e têm impacto muito maior, seja pelo grau de dependência que causem, seja pelos danos colaterais do consumo, como os acidentes de trânsito. Além disso, a legalização permitiria o controle da quantidade de CBD e THC, deixando a droga menos potente do que ela seria na ilegalidade. Adicionalmente, a droga seria objeto de mais pesquisas, o que ajudaria a entendermos melhor os danos que ela causa.\n",
      "\n",
      "https://www.youtube.com/watch?v=kP15q815Saw\n",
      "A ideia de que a descriminalização ou legalização da maconha, para fins medicinais ou recreativos, causaria uma grave epidemia não é corroborada pelos dados existentes. Ainda que se possa, e deva, criar hipóteses do que irá ocorrer uma vez que o Brasil avançar na questão, é errado que isso fique no campo imaginativo. Há muita informação disponível, seja de estudos médicos ou econômicos, com relação ao tema. E no custo-benefício, a proibição tem sido a pior das escolhas.\n",
      "\n",
      "André Yukio Matemático pela USP, mestre em economia pela FGV Referências\n"
     ]
    }
   ],
   "source": [
    "print(texto)"
   ]
  },
  {
   "cell_type": "markdown",
   "metadata": {},
   "source": [
    "Fazendo a tokenização"
   ]
  },
  {
   "cell_type": "code",
   "execution_count": 28,
   "metadata": {
    "scrolled": true
   },
   "outputs": [
    {
     "name": "stdout",
     "output_type": "stream",
     "text": [
      "['A', 'cada', 'dia', 'que', 'passa', ',', 'mais', 'se', 'fala', 'sobre', 'a', 'legalização', 'da', 'maconha', '.', 'Seja', 'nas', 'escolas', ',', 'nos', 'jornais', 'ou', 'no', 'campo', 'político', ',', 'o', 'assunto', 'já', 'não', 'é', 'mais', 'tabu', 'e', 'defender', 'a', 'descriminalização', 'ou', 'legalização', 'não', 'é', 'nem', 'de', 'longe', 'uma', 'opinião', 'polêmica', '.', 'Até', 'mesmo', 'num', 'país', 'conservador', 'como', 'o', 'nosso', ',', 'já', 'encontramos', 'uma', 'parcela', 'da', 'população', 'sendo', 'favorável', 'à', 'legalização', 'tanto', 'para', 'fins', 'medicinais', ',', 'quanto', 'para', 'fins', 'recreacionais', '.', 'Com', 'isto', ',', 'muitos', 'começam', 'a', 'criar', 'hipóteses', 'de', 'coisas', 'terríveis', 'que', 'poderiam', 'acontecer', 'no', 'Brasil', ',', 'caso', 'a', 'lei', 'sofra', 'mudanças', '.', 'O', 'curioso', 'por', 'trás', 'disso', 'é', 'que', 'ainda', 'há', 'muita', 'gente', 'que', 'debate', 'em', 'torno', 'de', 'suposições', 'e', 'crenças', 'do', 'que', 'poderia', 'acontecer', ',', 'ignorando', 'completamente', 'os', 'experimentos', 'existentes', '.', 'O', 'porte', 'de', 'maconha', 'já', 'é', 'descriminalizado', 'em', 'diversos', 'lugares', 'do', 'mundo', '[', '1', ']', ',', 'além', 'de', 'ter', 'seu', 'uso', 'para', 'fins', 'medicinais', 'e', 'até', 'recreacionais', 'sendo', 'cada', 'vez', 'mais', 'permitidos', '.', 'Na', 'América', 'do', 'Sul', ',', 'por', 'exemplo', ',', 'países', 'como', 'Chile', ',', 'Argentina', 'e', 'Colômbia', 'já', 'não', 'criminalizam', 'mais', 'o', 'porte', 'da', 'droga', '.', 'Além', 'disso', ',', 'temos', 'nosso', 'vizinho', 'Uruguai', 'pioneiro', 'na', 'legalização', 'para', 'fins', 'recreacionais', '.', 'No', 'Brasil', ',', 'apesar', 'de', 'mudanças', 'na', 'lei', 'em', '2006', ',', 'ainda', 'se', 'prende', 'pessoas', 'pelo', 'porte', 'da', 'droga', '.', 'Nosso', 'problema', 'é', 'ainda', 'mais', 'grave', 'quando', 'se', 'observa', 'a', 'arbitrariedade', 'da', 'lei', ',', 'que', 'acaba', 'por', 'prender', 'pessoas', 'que', 'carregam', 'até', '1g', 'da', 'droga', 'e', 'pode', 'libertar', 'outras', 'com', '20g', '[', '2', ']', '.', '[', 'caption', 'id=', \"''\", 'attachment_14732', \"''\", 'align=', \"''\", 'aligncenter', \"''\", 'width=', \"''\", '891', \"''\", 'Elaboração', ':', 'Jornal', 'O', 'Estado', 'de', 'São', 'Paulo', '[', '/caption', ']', 'A', 'nossa', 'situação', 'deixa', 'clara', 'a', 'necessidade', 'de', 'mudanças', 'nas', 'leis', '.', 'E', 'mesmo', 'que', 'muitos', 'ainda', 'se', 'perguntem', 'sobre', 'a', 'quantidade', 'de', 'coisas', 'terríveis', 'que', 'poderia', 'vir', 'a', 'acontecer', 'se', 'legalizarmos', 'a', 'droga', ',', 'é', 'possível', 'olhar', 'para', 'frente', 'com', 'otimismo', '.', 'Nos', 'Estados', 'Unidos', ',', 'por', 'exemplo', ',', 'a', 'legalização', 'da', 'maconha', 'para', 'fins', 'medicinais', 'já', 'ocorre', 'em', '33', 'estados', '[', '3', ']', ',', 'o', 'que', 'fez', 'com', 'que', 'fosse', 'possível', 'desenhar', 'novos', 'estudos', 'quasi-experimental', '.', 'Em', 'um', 'deles', '[', '4', ']', ',', 'dois', 'pesquisadores', 'analisaram', 'o', 'efeito', 'da', 'legalização', 'da', 'maconha', 'medicinal', 'no', 'tráfico', 'de', 'drogas', 'e', 'observaram', 'uma', 'queda', 'na', 'quantidade', 'de', 'crimes', 'violentos', '.', 'Os', 'resultados', 'mostraram', 'evidências', 'de', 'que', 'a', 'legalização', 'resultou', 'em', 'uma', 'queda', 'de', 'quase', '6', '%', 'nos', 'crimes', 'violentos', ',', 'sendo', 'que', 'alguns', ',', 'como', 'homicídio', ',', 'tiveram', 'impactos', 'significativos', ',', 'chegando', 'a', '12', '%', 'de', 'redução', '.', 'Como', 'dito', 'na', 'introdução', 'do', 'texto', ',', 'este', 'não', 'é', 'o', 'único', 'experimento', 'existente', '.', 'A', 'Itália', 'também', 'passou', 'por', 'um', 'processo', 'de', 'legalização', 'de', 'uma', 'Cannabis', 'com', 'baixo', 'teor', 'de', 'THC', '.', 'Em', 'um', 'estudo', 'realizado', 'no', 'ano', 'passado', '[', '5', ']', ',', 'pesquisadores', 'analisaram', 'dados', 'de', '2016', 'a', '2018', 'para', 'entender', 'o', 'efeito', 'que', 'a', 'legalização', 'do', 'produto', 'teria', 'no', 'tráfico', 'de', 'drogas', '.', 'O', 'que', 'se', 'descobriu', 'foi', 'que', 'a', 'legalização', 'da', 'C-light', 'resultou', 'em', 'uma', 'queda', 'de', 'no', 'confisco', 'de', 'maconha', 'ilegal', ',', 'além', 'de', 'impactar', 'na', 'oferta', 'ilegal', 'de', 'outros', 'medicamentos', 'derivados', 'da', 'droga', '.', 'Estima-se', 'que', 'a', 'perda', 'de', 'receita', 'para', 'as', 'organizações', 'criminosas', 'cheguem', 'a', '200', 'milhões', 'de', 'Euro', 'por', 'ano', '.', 'Dito', 'tudo', 'isto', ',', 'fica', 'claro', 'o', 'porquê', 'de', 'economistas', 'e', 'cientistas', 'sociais', 'serem', 'tão', 'favoráveis', 'à', 'legalização', 'das', 'drogas', '.', 'O', 'impacto', 'econômico', 'para', 'os', 'dados', 'que', 'temos', 'até', 'o', 'momento', 'é', 'bem', 'significativo', '.', 'No', 'entanto', ',', 'um', 'grupo', 'específico', 'de', 'especialistas', 'parece', 'ainda', 'estar', 'dividido', ',', 'o', 'dos', 'médicos', '.', 'O', '(', 'justo', ')', 'argumento', 'utilizado', 'é', 'o', 'de', 'que', 'a', 'droga', 'faz', 'mal', '.', 'Não', 'há', 'como', 'negar', 'isso', ',', 'além', 'dos', 'óbvios', 'problemas', 'de', 'dependência', ',', 'a', 'maconha', 'pode', 'causar', 'danos', 'cognitivos', ',', 'principalmente', 'quando', 'consumida', 'na', 'adolescência', '.', 'Além', 'disso', ',', 'alguns', 'estudos', 'já', 'mostram', 'que', 'até', 'a', 'depressão', 'pode', 'ser', 'agravada', 'para', 'consumidores', 'de', 'longo', 'prazo', '.', 'A', 'grande', 'questão', 'é', 'que', 'mesmo', 'para', 'estes', 'problemas', ',', 'a', 'proibição', 'passa', 'longe', 'de', 'ser', 'a', 'solução', '.', 'Ainda', 'que', 'a', 'maconha', 'cause', 'algum', 'mal', ',', 'drogas', 'como', 'cigarro', 'e', 'o', 'álcool', 'são', 'mais', 'aditivas', 'e', 'têm', 'impacto', 'muito', 'maior', ',', 'seja', 'pelo', 'grau', 'de', 'dependência', 'que', 'causem', ',', 'seja', 'pelos', 'danos', 'colaterais', 'do', 'consumo', ',', 'como', 'os', 'acidentes', 'de', 'trânsito', '.', 'Além', 'disso', ',', 'a', 'legalização', 'permitiria', 'o', 'controle', 'da', 'quantidade', 'de', 'CBD', 'e', 'THC', ',', 'deixando', 'a', 'droga', 'menos', 'potente', 'do', 'que', 'ela', 'seria', 'na', 'ilegalidade', '.', 'Adicionalmente', ',', 'a', 'droga', 'seria', 'objeto', 'de', 'mais', 'pesquisas', ',', 'o', 'que', 'ajudaria', 'a', 'entendermos', 'melhor', 'os', 'danos', 'que', 'ela', 'causa', '.', 'https', ':', '//www.youtube.com/watch', '?', 'v=kP15q815Saw', 'A', 'ideia', 'de', 'que', 'a', 'descriminalização', 'ou', 'legalização', 'da', 'maconha', ',', 'para', 'fins', 'medicinais', 'ou', 'recreativos', ',', 'causaria', 'uma', 'grave', 'epidemia', 'não', 'é', 'corroborada', 'pelos', 'dados', 'existentes', '.', 'Ainda', 'que', 'se', 'possa', ',', 'e', 'deva', ',', 'criar', 'hipóteses', 'do', 'que', 'irá', 'ocorrer', 'uma', 'vez', 'que', 'o', 'Brasil', 'avançar', 'na', 'questão', ',', 'é', 'errado', 'que', 'isso', 'fique', 'no', 'campo', 'imaginativo', '.', 'Há', 'muita', 'informação', 'disponível', ',', 'seja', 'de', 'estudos', 'médicos', 'ou', 'econômicos', ',', 'com', 'relação', 'ao', 'tema', '.', 'E', 'no', 'custo-benefício', ',', 'a', 'proibição', 'tem', 'sido', 'a', 'pior', 'das', 'escolhas', '.', 'André', 'Yukio', 'Matemático', 'pela', 'USP', ',', 'mestre', 'em', 'economia', 'pela', 'FGV', 'Referências']\n"
     ]
    }
   ],
   "source": [
    "tokenized_word=word_tokenize(texto)\n",
    "print(tokenized_word)"
   ]
  },
  {
   "cell_type": "markdown",
   "metadata": {},
   "source": [
    "Colocando todas as letras em minusculas"
   ]
  },
  {
   "cell_type": "code",
   "execution_count": 29,
   "metadata": {
    "scrolled": false
   },
   "outputs": [
    {
     "name": "stdout",
     "output_type": "stream",
     "text": [
      "['a', 'cada', 'dia', 'que', 'passa', ',', 'mais', 'se', 'fala', 'sobre', 'a', 'legalização', 'da', 'maconha', '.', 'seja', 'nas', 'escolas', ',', 'nos', 'jornais', 'ou', 'no', 'campo', 'político', ',', 'o', 'assunto', 'já', 'não', 'é', 'mais', 'tabu', 'e', 'defender', 'a', 'descriminalização', 'ou', 'legalização', 'não', 'é', 'nem', 'de', 'longe', 'uma', 'opinião', 'polêmica', '.', 'até', 'mesmo', 'num', 'país', 'conservador', 'como', 'o', 'nosso', ',', 'já', 'encontramos', 'uma', 'parcela', 'da', 'população', 'sendo', 'favorável', 'à', 'legalização', 'tanto', 'para', 'fins', 'medicinais', ',', 'quanto', 'para', 'fins', 'recreacionais', '.', 'com', 'isto', ',', 'muitos', 'começam', 'a', 'criar', 'hipóteses', 'de', 'coisas', 'terríveis', 'que', 'poderiam', 'acontecer', 'no', 'brasil', ',', 'caso', 'a', 'lei', 'sofra', 'mudanças', '.', 'o', 'curioso', 'por', 'trás', 'disso', 'é', 'que', 'ainda', 'há', 'muita', 'gente', 'que', 'debate', 'em', 'torno', 'de', 'suposições', 'e', 'crenças', 'do', 'que', 'poderia', 'acontecer', ',', 'ignorando', 'completamente', 'os', 'experimentos', 'existentes', '.', 'o', 'porte', 'de', 'maconha', 'já', 'é', 'descriminalizado', 'em', 'diversos', 'lugares', 'do', 'mundo', '[', '1', ']', ',', 'além', 'de', 'ter', 'seu', 'uso', 'para', 'fins', 'medicinais', 'e', 'até', 'recreacionais', 'sendo', 'cada', 'vez', 'mais', 'permitidos', '.', 'na', 'américa', 'do', 'sul', ',', 'por', 'exemplo', ',', 'países', 'como', 'chile', ',', 'argentina', 'e', 'colômbia', 'já', 'não', 'criminalizam', 'mais', 'o', 'porte', 'da', 'droga', '.', 'além', 'disso', ',', 'temos', 'nosso', 'vizinho', 'uruguai', 'pioneiro', 'na', 'legalização', 'para', 'fins', 'recreacionais', '.', 'no', 'brasil', ',', 'apesar', 'de', 'mudanças', 'na', 'lei', 'em', '2006', ',', 'ainda', 'se', 'prende', 'pessoas', 'pelo', 'porte', 'da', 'droga', '.', 'nosso', 'problema', 'é', 'ainda', 'mais', 'grave', 'quando', 'se', 'observa', 'a', 'arbitrariedade', 'da', 'lei', ',', 'que', 'acaba', 'por', 'prender', 'pessoas', 'que', 'carregam', 'até', '1g', 'da', 'droga', 'e', 'pode', 'libertar', 'outras', 'com', '20g', '[', '2', ']', '.', '[', 'caption', 'id=', \"''\", 'attachment_14732', \"''\", 'align=', \"''\", 'aligncenter', \"''\", 'width=', \"''\", '891', \"''\", 'elaboração', ':', 'jornal', 'o', 'estado', 'de', 'são', 'paulo', '[', '/caption', ']', 'a', 'nossa', 'situação', 'deixa', 'clara', 'a', 'necessidade', 'de', 'mudanças', 'nas', 'leis', '.', 'e', 'mesmo', 'que', 'muitos', 'ainda', 'se', 'perguntem', 'sobre', 'a', 'quantidade', 'de', 'coisas', 'terríveis', 'que', 'poderia', 'vir', 'a', 'acontecer', 'se', 'legalizarmos', 'a', 'droga', ',', 'é', 'possível', 'olhar', 'para', 'frente', 'com', 'otimismo', '.', 'nos', 'estados', 'unidos', ',', 'por', 'exemplo', ',', 'a', 'legalização', 'da', 'maconha', 'para', 'fins', 'medicinais', 'já', 'ocorre', 'em', '33', 'estados', '[', '3', ']', ',', 'o', 'que', 'fez', 'com', 'que', 'fosse', 'possível', 'desenhar', 'novos', 'estudos', 'quasi-experimental', '.', 'em', 'um', 'deles', '[', '4', ']', ',', 'dois', 'pesquisadores', 'analisaram', 'o', 'efeito', 'da', 'legalização', 'da', 'maconha', 'medicinal', 'no', 'tráfico', 'de', 'drogas', 'e', 'observaram', 'uma', 'queda', 'na', 'quantidade', 'de', 'crimes', 'violentos', '.', 'os', 'resultados', 'mostraram', 'evidências', 'de', 'que', 'a', 'legalização', 'resultou', 'em', 'uma', 'queda', 'de', 'quase', '6', '%', 'nos', 'crimes', 'violentos', ',', 'sendo', 'que', 'alguns', ',', 'como', 'homicídio', ',', 'tiveram', 'impactos', 'significativos', ',', 'chegando', 'a', '12', '%', 'de', 'redução', '.', 'como', 'dito', 'na', 'introdução', 'do', 'texto', ',', 'este', 'não', 'é', 'o', 'único', 'experimento', 'existente', '.', 'a', 'itália', 'também', 'passou', 'por', 'um', 'processo', 'de', 'legalização', 'de', 'uma', 'cannabis', 'com', 'baixo', 'teor', 'de', 'thc', '.', 'em', 'um', 'estudo', 'realizado', 'no', 'ano', 'passado', '[', '5', ']', ',', 'pesquisadores', 'analisaram', 'dados', 'de', '2016', 'a', '2018', 'para', 'entender', 'o', 'efeito', 'que', 'a', 'legalização', 'do', 'produto', 'teria', 'no', 'tráfico', 'de', 'drogas', '.', 'o', 'que', 'se', 'descobriu', 'foi', 'que', 'a', 'legalização', 'da', 'c-light', 'resultou', 'em', 'uma', 'queda', 'de', 'no', 'confisco', 'de', 'maconha', 'ilegal', ',', 'além', 'de', 'impactar', 'na', 'oferta', 'ilegal', 'de', 'outros', 'medicamentos', 'derivados', 'da', 'droga', '.', 'estima-se', 'que', 'a', 'perda', 'de', 'receita', 'para', 'as', 'organizações', 'criminosas', 'cheguem', 'a', '200', 'milhões', 'de', 'euro', 'por', 'ano', '.', 'dito', 'tudo', 'isto', ',', 'fica', 'claro', 'o', 'porquê', 'de', 'economistas', 'e', 'cientistas', 'sociais', 'serem', 'tão', 'favoráveis', 'à', 'legalização', 'das', 'drogas', '.', 'o', 'impacto', 'econômico', 'para', 'os', 'dados', 'que', 'temos', 'até', 'o', 'momento', 'é', 'bem', 'significativo', '.', 'no', 'entanto', ',', 'um', 'grupo', 'específico', 'de', 'especialistas', 'parece', 'ainda', 'estar', 'dividido', ',', 'o', 'dos', 'médicos', '.', 'o', '(', 'justo', ')', 'argumento', 'utilizado', 'é', 'o', 'de', 'que', 'a', 'droga', 'faz', 'mal', '.', 'não', 'há', 'como', 'negar', 'isso', ',', 'além', 'dos', 'óbvios', 'problemas', 'de', 'dependência', ',', 'a', 'maconha', 'pode', 'causar', 'danos', 'cognitivos', ',', 'principalmente', 'quando', 'consumida', 'na', 'adolescência', '.', 'além', 'disso', ',', 'alguns', 'estudos', 'já', 'mostram', 'que', 'até', 'a', 'depressão', 'pode', 'ser', 'agravada', 'para', 'consumidores', 'de', 'longo', 'prazo', '.', 'a', 'grande', 'questão', 'é', 'que', 'mesmo', 'para', 'estes', 'problemas', ',', 'a', 'proibição', 'passa', 'longe', 'de', 'ser', 'a', 'solução', '.', 'ainda', 'que', 'a', 'maconha', 'cause', 'algum', 'mal', ',', 'drogas', 'como', 'cigarro', 'e', 'o', 'álcool', 'são', 'mais', 'aditivas', 'e', 'têm', 'impacto', 'muito', 'maior', ',', 'seja', 'pelo', 'grau', 'de', 'dependência', 'que', 'causem', ',', 'seja', 'pelos', 'danos', 'colaterais', 'do', 'consumo', ',', 'como', 'os', 'acidentes', 'de', 'trânsito', '.', 'além', 'disso', ',', 'a', 'legalização', 'permitiria', 'o', 'controle', 'da', 'quantidade', 'de', 'cbd', 'e', 'thc', ',', 'deixando', 'a', 'droga', 'menos', 'potente', 'do', 'que', 'ela', 'seria', 'na', 'ilegalidade', '.', 'adicionalmente', ',', 'a', 'droga', 'seria', 'objeto', 'de', 'mais', 'pesquisas', ',', 'o', 'que', 'ajudaria', 'a', 'entendermos', 'melhor', 'os', 'danos', 'que', 'ela', 'causa', '.', 'https', ':', '//www.youtube.com/watch', '?', 'v=kp15q815saw', 'a', 'ideia', 'de', 'que', 'a', 'descriminalização', 'ou', 'legalização', 'da', 'maconha', ',', 'para', 'fins', 'medicinais', 'ou', 'recreativos', ',', 'causaria', 'uma', 'grave', 'epidemia', 'não', 'é', 'corroborada', 'pelos', 'dados', 'existentes', '.', 'ainda', 'que', 'se', 'possa', ',', 'e', 'deva', ',', 'criar', 'hipóteses', 'do', 'que', 'irá', 'ocorrer', 'uma', 'vez', 'que', 'o', 'brasil', 'avançar', 'na', 'questão', ',', 'é', 'errado', 'que', 'isso', 'fique', 'no', 'campo', 'imaginativo', '.', 'há', 'muita', 'informação', 'disponível', ',', 'seja', 'de', 'estudos', 'médicos', 'ou', 'econômicos', ',', 'com', 'relação', 'ao', 'tema', '.', 'e', 'no', 'custo-benefício', ',', 'a', 'proibição', 'tem', 'sido', 'a', 'pior', 'das', 'escolhas', '.', 'andré', 'yukio', 'matemático', 'pela', 'usp', ',', 'mestre', 'em', 'economia', 'pela', 'fgv', 'referências']\n"
     ]
    }
   ],
   "source": [
    "tokenized_word_2 = [w.lower() for w in tokenized_word]\n",
    "print(tokenized_word_2)"
   ]
  },
  {
   "cell_type": "markdown",
   "metadata": {},
   "source": [
    "Aqui, vamos retirar as chamadas stopwords (conjuncoes, preposicoes, palavras que não nos interessam)"
   ]
  },
  {
   "cell_type": "markdown",
   "metadata": {},
   "source": [
    "1. Vamos ver quais stopwords ja existem na biblioteca"
   ]
  },
  {
   "cell_type": "code",
   "execution_count": 30,
   "metadata": {},
   "outputs": [],
   "source": [
    "from nltk.corpus import stopwords\n",
    "stop_words = set(stopwords.words(\"portuguese\"))"
   ]
  },
  {
   "cell_type": "markdown",
   "metadata": {},
   "source": [
    "Caso apresente algum erro execute o comando abaixo:"
   ]
  },
  {
   "cell_type": "markdown",
   "metadata": {},
   "source": [
    "nltk.download('stopwords')"
   ]
  },
  {
   "cell_type": "code",
   "execution_count": 31,
   "metadata": {},
   "outputs": [
    {
     "name": "stdout",
     "output_type": "stream",
     "text": [
      "{'à', 'esses', 'estivessem', 'elas', 'houverá', 'estão', 'eram', 'seremos', 'havemos', 'num', 'éramos', 'tivera', 'tem', 'teríamos', 'tu', 'já', 'lhes', 'fui', 'delas', 'com', 'estes', 'era', 'isso', 'os', 'estivermos', 'fosse', 'estava', 'sem', 'quem', 'teus', 'sou', 'serei', 'fossem', 'fomos', 'minha', 'do', 'meu', 'ao', 'sua', 'tínhamos', 'houveríamos', 'houvemos', 'houver', 'vos', 'nossa', 'quando', 'estivéramos', 'estejamos', 'seus', 'houverei', 'houveram', 'foi', 'nós', 'forem', 'estamos', 'sejamos', 'houvermos', 'será', 'estivéssemos', 'tivessem', 'da', 'houveremos', 'houvessem', 'é', 'aqueles', 'ele', 'mesmo', 'tinham', 'qual', 'a', 'às', 'houve', 'tive', 'tivesse', 'pelo', 'seriam', 'pelos', 'das', 'como', 'eles', 'teria', 'e', 'tivemos', 'teve', 'tivéramos', 'em', 'fora', 'pelas', 'nossos', 'esteja', 'estiveram', 'não', 'estiverem', 'um', 'isto', 'tenham', 'estivemos', 'também', 'estavam', 'houvéramos', 'dos', 'são', 'houveriam', 'serão', 'estive', 'seríamos', 'na', 'estou', 'fôramos', 'numa', 'seria', 'essas', 'houveria', 'até', 'for', 'terei', 'ela', 'aquelas', 'tivermos', 'tivéssemos', 'pela', 'mais', 'fôssemos', 'houvéssemos', 'para', 'no', 'estiver', 'hajam', 'muito', 'tenha', 'tiverem', 'essa', 'terá', 'de', 'nos', 'aquilo', 'entre', 'houvesse', 'meus', 'tua', 'tinha', 'uma', 'formos', 'as', 'vocês', 'dele', 'somos', 'aquela', 'este', 'sejam', 'esse', 'hão', 'houvera', 'tenho', 'há', 'deles', 'estávamos', 'seu', 'hei', 'minhas', 'tiver', 'estas', 'esteve', 'lhe', 'ou', 'que', 'haja', 'esta', 'por', 'nem', 'tém', 'teriam', 'eu', 'está', 'terão', 'te', 'depois', 'estivera', 'estivesse', 'teremos', 'foram', 'se', 'suas', 'você', 'dela', 'tuas', 'temos', 'nas', 'nossas', 'o', 'tenhamos', 'estejam', 'houverão', 'seja', 'tiveram', 'nosso', 'hajamos', 'mas', 'houverem', 'aos', 'teu', 'aquele', 'só', 'me'}\n"
     ]
    }
   ],
   "source": [
    "print(stop_words)"
   ]
  },
  {
   "cell_type": "markdown",
   "metadata": {},
   "source": [
    "2. Vamos adicionar novas stopwords"
   ]
  },
  {
   "cell_type": "markdown",
   "metadata": {},
   "source": [
    "coloquei o **'bbbbbbbbbbb'** porque ficava mais facil pra ver se deu certo a lista de stopwords depois"
   ]
  },
  {
   "cell_type": "code",
   "execution_count": 32,
   "metadata": {},
   "outputs": [],
   "source": [
    "stop_words.update(('uso',',',';','%','.',':','bbbbbbbbbbbbbbb','-','droga','drogas','art.','–','http','[',']',\"''\"))\n",
    "#print(stop_words)"
   ]
  },
  {
   "cell_type": "markdown",
   "metadata": {},
   "source": [
    "3. Remover essas stopwords"
   ]
  },
  {
   "cell_type": "code",
   "execution_count": 33,
   "metadata": {},
   "outputs": [],
   "source": [
    "tokenized_word_3=[]\n",
    "for w in tokenized_word_2:\n",
    "    if w not in stop_words:\n",
    "        tokenized_word_3.append(w)"
   ]
  },
  {
   "cell_type": "markdown",
   "metadata": {},
   "source": [
    "Se quiser comparar o antes e depois da remoção das stopwords"
   ]
  },
  {
   "cell_type": "markdown",
   "metadata": {},
   "source": [
    "print(\"Tokenized Word:\",tokenized_word)\n",
    "print(\"Filterd Word:\",tokenized_word_3)"
   ]
  },
  {
   "cell_type": "markdown",
   "metadata": {},
   "source": [
    "Analisa distribuicao das palavras"
   ]
  },
  {
   "cell_type": "code",
   "execution_count": 34,
   "metadata": {},
   "outputs": [
    {
     "data": {
      "text/plain": [
       "[('legalização', 13),\n",
       " ('maconha', 8),\n",
       " ('ainda', 7),\n",
       " ('fins', 6),\n",
       " ('além', 6),\n",
       " ('medicinais', 4),\n",
       " ('disso', 4),\n",
       " ('sendo', 3),\n",
       " ('recreacionais', 3),\n",
       " ('acontecer', 3),\n",
       " ('brasil', 3),\n",
       " ('lei', 3),\n",
       " ('mudanças', 3),\n",
       " ('porte', 3),\n",
       " ('pode', 3),\n",
       " ('quantidade', 3),\n",
       " ('estudos', 3),\n",
       " ('queda', 3),\n",
       " ('dados', 3),\n",
       " ('danos', 3)]"
      ]
     },
     "execution_count": 34,
     "metadata": {},
     "output_type": "execute_result"
    }
   ],
   "source": [
    "from nltk.probability import FreqDist\n",
    "fdist = FreqDist(tokenized_word_3)\n",
    "fdist.most_common(20)"
   ]
  },
  {
   "cell_type": "markdown",
   "metadata": {},
   "source": [
    "# Grafico de distribuicao das palavras\n",
    "import matplotlib.pyplot as plt\n",
    "plt.figure()\n",
    "fdist.plot(20,cumulative=False)"
   ]
  },
  {
   "cell_type": "code",
   "execution_count": 35,
   "metadata": {},
   "outputs": [
    {
     "data": {
      "image/png": "[encoded data removed]",
      "text/plain": [
       "<Figure size 432x288 with 1 Axes>"
      ]
     },
     "metadata": {
      "needs_background": "light"
     },
     "output_type": "display_data"
    },
    {
     "data": {
      "text/plain": [
       "<matplotlib.axes._subplots.AxesSubplot at 0x7f1eab550b10>"
      ]
     },
     "execution_count": 35,
     "metadata": {},
     "output_type": "execute_result"
    }
   ],
   "source": [
    "import matplotlib.pyplot as plt\n",
    "plt.figure()\n",
    "fdist.plot(20,cumulative=False)"
   ]
  },
  {
   "cell_type": "code",
   "execution_count": 36,
   "metadata": {},
   "outputs": [
    {
     "data": {
      "text/plain": [
       "<wordcloud.wordcloud.WordCloud at 0x7f1ea0c62650>"
      ]
     },
     "execution_count": 36,
     "metadata": {},
     "output_type": "execute_result"
    }
   ],
   "source": [
    "# Wordcloud\n",
    "wc = WordCloud()\n",
    "img = wc.generate_from_text(' '.join(tokenized_word_3))\n",
    "img.to_file('worcloud.jpeg')"
   ]
  },
  {
   "cell_type": "code",
   "execution_count": 37,
   "metadata": {},
   "outputs": [
    {
     "data": {
      "image/jpeg": "[encoded data removed]",
      "text/plain": [
       "<IPython.core.display.Image object>"
      ]
     },
     "execution_count": 37,
     "metadata": {},
     "output_type": "execute_result"
    }
   ],
   "source": [
    "from IPython.display import Image\n",
    "Image(filename='worcloud.jpeg')"
   ]
  }
 ],
 "metadata": {
  "kernelspec": {
   "display_name": "Python 3",
   "language": "python",
   "name": "python3"
  },
  "language_info": {
   "codemirror_mode": {
    "name": "ipython",
    "version": 3
   },
   "file_extension": ".py",
   "mimetype": "text/x-python",
   "name": "python",
   "nbconvert_exporter": "python",
   "pygments_lexer": "ipython3",
   "version": "3.7.4"
  }
 },
 "nbformat": 4,
 "nbformat_minor": 2
}
